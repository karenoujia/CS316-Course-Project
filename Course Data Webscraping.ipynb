{
 "cells": [
  {
   "cell_type": "code",
   "execution_count": 4,
   "metadata": {},
   "outputs": [],
   "source": [
    "import requests \n",
    "import lxml\n",
    "import re\n",
    "from bs4 import BeautifulSoup\n",
    "import pandas as pd"
   ]
  },
  {
   "cell_type": "code",
   "execution_count": 2,
   "metadata": {},
   "outputs": [
    {
     "name": "stdout",
     "output_type": "stream",
     "text": [
      "200\n",
      "{'Date': 'Sat, 07 Dec 2019 19:23:00 GMT', 'Server': 'Apache', 'Set-Cookie': 'CSRFCookie=b395f70f3efa3d1c5d011f4f5c7141c2; expires=Sat, 07-Dec-2019 21:23:00 GMT; Max-Age=7200; path=/, highpoint_cs=dq2o4v95n1afftuvsfreeu25el4a17fm; path=/; secure; HttpOnly, CSSPreloaded=1; path=/, BIGipServer~OIT-SISS~siss-mobile_https_pool=2381416458.47873.0000; path=/; Httponly; Secure, f5avrbbbbbbbbbbbbbbbb=PINEFLMNLAFCEFOMJNMAOLMOHPHEPPLLOHKHFLOGLAEAMKLGOMDBGIDHLPLGKOBIJNJBPFNKBCFDHLGFEPJBBGPJGHDAGJAFDLGKEEGKLBHIMCCCDPIJFFNNJPOENAEE; HttpOnly; secure, f5_cspm=1234;', 'Expires': 'Thu, 19 Nov 1981 08:52:00 GMT', 'Cache-Control': 'no-store, no-cache, must-revalidate, post-check=0, pre-check=0', 'Pragma': 'no-cache', 'Content-Security-Policy': \"default-src 'self'  ; script-src 'self' https://code.jquery.com https://cdn.polyfill.io cdnjs.cloudflare.com maxcdn.bootstrapcdn.com cdn.jsdelivr.net *.googleapis.com *.gstatic.com *.google-analytics.com *.twitter.com https://*.twitter.com *.syndication.twimg.com https://*.syndication.twimg.com 'unsafe-inline' 'unsafe-eval' ; style-src 'self' fonts.googleapis.com *.twitter.com https://*.twitter.com 'unsafe-inline' ; img-src 'self' * data: ; font-src 'self' data: fonts.gstatic.com ; connect-src 'self' * ; media-src 'self'  ; object-src 'self'  ; frame-src 'self' gap://ready *.twitter.com https://*.twitter.com *.duosecurity.com https://*.duosecurity.com ; frame-ancestors 'self'\", 'Connection': 'close', 'Transfer-Encoding': 'chunked', 'Content-Type': 'text/html; charset=UTF-8'}\n"
     ]
    }
   ],
   "source": [
    "import sys\n",
    "result = requests.get('https://m.siss.duke.edu/app/catalog/listSubjects')\n",
    "print(result.status_code)\n",
    "print(result.headers)\n",
    "src = result.content\n",
    "soup = BeautifulSoup(src,\"lxml\")"
   ]
  },
  {
   "cell_type": "code",
   "execution_count": 5,
   "metadata": {},
   "outputs": [],
   "source": [
    "data = pd.DataFrame(columns = ['number','name'])\n",
    "numbers = []\n",
    "link = soup.find_all('a',href = True)[9::]\n",
    "\n",
    "for u in link:\n",
    "    url = u['href']\n",
    "    title = u.find('div',{'class':\"strong section-body\"}).getText().split(\"-\")[0]\n",
    "    web = requests.get(url)\n",
    "    src = BeautifulSoup(web.content,\"lxml\")\n",
    "    for course in src.find_all('div',{'class':\"section-content\"}):\n",
    "        if(course.find('div',{'class':\"strong section-body\"}) == None):\n",
    "            continue\n",
    "        temp = course.find('div',{'class':\"strong section-body\"}).getText()\n",
    "        number = title + re.sub(r'[A-Z].*$', \"\", temp.split(\"-\")[0])\n",
    "        number = number.replace(\" \",\"\")\n",
    "        if(number not in numbers):\n",
    "            numbers.append(number)\n",
    "            name = temp.split(\"-\")[-1].lower().title()\n",
    "            new = {'number':number,'name':name}\n",
    "            data = data.append(new,ignore_index=True)"
   ]
  },
  {
   "cell_type": "code",
   "execution_count": null,
   "metadata": {},
   "outputs": [],
   "source": [
    "data.to_csv(\"all_course_data.csv\")"
   ]
  }
 ],
 "metadata": {
  "kernelspec": {
   "display_name": "Python 3",
   "language": "python",
   "name": "python3"
  },
  "language_info": {
   "codemirror_mode": {
    "name": "ipython",
    "version": 3
   },
   "file_extension": ".py",
   "mimetype": "text/x-python",
   "name": "python",
   "nbconvert_exporter": "python",
   "pygments_lexer": "ipython3",
   "version": "3.7.3"
  }
 },
 "nbformat": 4,
 "nbformat_minor": 2
}
